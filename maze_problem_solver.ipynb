{
  "nbformat": 4,
  "nbformat_minor": 0,
  "metadata": {
    "colab": {
      "provenance": [],
      "authorship_tag": "ABX9TyN/DvXk86rek9bZT/tSy5T7"
    },
    "kernelspec": {
      "name": "python3",
      "display_name": "Python 3"
    },
    "language_info": {
      "name": "python"
    }
  },
  "cells": [
    {
      "cell_type": "code",
      "execution_count": 1,
      "metadata": {
        "colab": {
          "base_uri": "https://localhost:8080/"
        },
        "id": "uALKFuidR-BU",
        "outputId": "e6ff34c5-fb22-4809-f595-c8f58109add5"
      },
      "outputs": [
        {
          "output_type": "stream",
          "name": "stdout",
          "text": [
            "[1, 0, 0, 0]\n",
            "[1, 1, 0, 0]\n",
            "[0, 1, 0, 0]\n",
            "[0, 1, 1, 1]\n"
          ]
        }
      ],
      "source": [
        "def solve_maze(board, x, y, solution, n):\n",
        "    if x == n-1 and y == n-1:  # Base case: if the destination is reached\n",
        "        solution[x][y] = 1\n",
        "        return True\n",
        "\n",
        "    if is_valid(board, x, y, n):  # Check if the current position is valid\n",
        "        solution[x][y] = 1  # Mark the current cell in the solution path\n",
        "\n",
        "        # Move to the right (x+1, y)\n",
        "        if solve_maze(board, x + 1, y, solution, n):\n",
        "            return True\n",
        "\n",
        "        # Move downwards (x, y+1)\n",
        "        if solve_maze(board, x, y + 1, solution, n):\n",
        "            return True\n",
        "\n",
        "        # If neither direction works, backtrack\n",
        "        solution[x][y] = 0\n",
        "        return False\n",
        "\n",
        "    return False\n",
        "\n",
        "def is_valid(board, x, y, n):\n",
        "\n",
        "    return 0 <= x < n and 0 <= y < n and board[x][y] == 1\n",
        "\n",
        "\n",
        "n = 4\n",
        "board = [\n",
        "    [1, 0, 0, 0],\n",
        "    [1, 1, 0, 1],\n",
        "    [0, 1, 0, 0],\n",
        "    [1, 1, 1, 1]\n",
        "]\n",
        "\n",
        "solution = [[0 for _ in range(n)] for _ in range(n)]\n",
        "\n",
        "if solve_maze(board, 0, 0, solution, n):\n",
        "    for row in solution:\n",
        "        print(row)\n",
        "else:\n",
        "    print(\"No solution found\")\n"
      ]
    }
  ]
}